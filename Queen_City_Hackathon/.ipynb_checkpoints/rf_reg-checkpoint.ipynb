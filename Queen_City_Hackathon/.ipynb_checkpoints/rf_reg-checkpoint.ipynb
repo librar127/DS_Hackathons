{
 "cells": [
  {
   "cell_type": "code",
   "execution_count": 1,
   "metadata": {},
   "outputs": [],
   "source": [
    "import matplotlib.pyplot as plt\n",
    "import numpy as np \n",
    "import pandas as pd\n",
    "import matplotlib"
   ]
  },
  {
   "cell_type": "code",
   "execution_count": 41,
   "metadata": {},
   "outputs": [],
   "source": [
    "matplotlib.rcParams.update({'font.size': 12})\n",
    "from sklearn.datasets import load_boston\n",
    "from sklearn.model_selection import train_test_split\n",
    "from sklearn.linear_model import LinearRegression\n",
    "from sklearn.linear_model import Ridge\n",
    "\n",
    "import xgboost as xgb\n",
    "from sklearn.pipeline import Pipeline\n",
    "from sklearn.svm import SVR\n",
    "from sklearn.model_selection import train_test_split, cross_val_score, KFold\n",
    "from sklearn.metrics import mean_squared_error\n",
    "from sklearn.model_selection import RandomizedSearchCV\n",
    "from sklearn.preprocessing import StandardScaler\n",
    "\n",
    "from sklearn.ensemble import RandomForestRegressor\n",
    "from sklearn.ensemble import BaggingRegressor\n",
    "from sklearn.ensemble import AdaBoostRegressor\n",
    "from sklearn.ensemble import GradientBoostingRegressor"
   ]
  },
  {
   "cell_type": "code",
   "execution_count": 42,
   "metadata": {},
   "outputs": [],
   "source": [
    "def prepare_data():\n",
    "\n",
    "    #### Read Train and Test Data\n",
    "    training_data = pd.read_csv('/home/rajneesh/Desktop/Queen_City_Hackathon/training.csv', index_col=0)\n",
    "    testing_data = pd.read_csv('/home/rajneesh/Desktop/Queen_City_Hackathon/testing.csv', index_col=0)\n",
    "\n",
    "    ### Check for the co relared columns \n",
    "\n",
    "    # Create correlation matrix\n",
    "    corr_matrix = training_data.corr().abs()\n",
    "\n",
    "    # Select upper triangle of correlation matrix\n",
    "    upper = corr_matrix.where(np.triu(np.ones(corr_matrix.shape), k=1).astype(np.bool))\n",
    "\n",
    "    # Find index of feature columns with correlation greater than 0.95\n",
    "    columns_to_drop = [column for column in upper.columns if any(upper[column] > 0.85)]\n",
    "\n",
    "    ### Drop all the co-related columns\n",
    "    data_nodups_df = training_data.drop(columns=columns_to_drop)\n",
    "\n",
    "\n",
    "    #### Data Preparation\n",
    "    train_df = data_nodups_df.fillna(data_nodups_df.mean())\n",
    "\n",
    "    #y = training_data['target']\n",
    "    #X = data_nonull_df.drop(columns=['target'])\n",
    "\n",
    "    test_nodups_df = testing_data.drop(columns=columns_to_drop)\n",
    "    test_df = test_nodups_df.fillna(data_nodups_df.mean())\n",
    "    \n",
    "    return (train_df, test_df)"
   ]
  },
  {
   "cell_type": "code",
   "execution_count": 40,
   "metadata": {},
   "outputs": [
    {
     "name": "stderr",
     "output_type": "stream",
     "text": [
      "/home/rajneesh/miniconda3/envs/py36/lib/python3.7/site-packages/sklearn/ensemble/forest.py:245: FutureWarning: The default value of n_estimators will change from 10 in version 0.20 to 100 in 0.22.\n",
      "  \"10 in version 0.20 to 100 in 0.22.\", FutureWarning)\n"
     ]
    },
    {
     "name": "stdout",
     "output_type": "stream",
     "text": [
      "8.174\n",
      "5.298857142840001\n",
      "4.838960130511669\n",
      "4.320863512718181\n",
      "4.320863512718181\n"
     ]
    }
   ],
   "source": [
    "model_list = [RandomForestRegressor(), BaggingRegressor(), AdaBoostRegressor(), GradientBoostingRegressor()]\n",
    "min_error = 8000\n",
    "min_error_mdl = None\n",
    "for each_model in model_list:\n",
    "    model = each_model\n",
    "    #regr = RandomForestRegressor(max_depth=5, random_state=0, n_estimators=500)\n",
    "    model.fit(X, y)\n",
    "    new_error = model.predict(test_nonull_df).sum()\n",
    "    print(new_error)\n",
    "    if new_error < min_error:\n",
    "        min_error = new_error\n",
    "        min_error_mdl = model\n",
    "\n",
    "\n",
    "print(min_error)\n",
    "save_prediction_to_csv(min_error_mdl.predict(test_nonull_df))"
   ]
  },
  {
   "cell_type": "code",
   "execution_count": 16,
   "metadata": {},
   "outputs": [],
   "source": [
    "def save_prediction_to_csv(y_pred):\n",
    "    \"\"\"\n",
    "    Use this function to save your prediction result to a csv file.\n",
    "    The resulting csv file is named as [team_name].csv\n",
    "\n",
    "    :param y_pred: an array or a pandas series that follows the SAME index order as in the testing data\n",
    "    \"\"\"\n",
    "    pd.DataFrame(dict(\n",
    "        target=y_pred\n",
    "    )).to_csv('predictions.csv', index=False, header=False)\n",
    " "
   ]
  }
 ],
 "metadata": {
  "kernelspec": {
   "display_name": "Python 3",
   "language": "python",
   "name": "python3"
  },
  "language_info": {
   "codemirror_mode": {
    "name": "ipython",
    "version": 3
   },
   "file_extension": ".py",
   "mimetype": "text/x-python",
   "name": "python",
   "nbconvert_exporter": "python",
   "pygments_lexer": "ipython3",
   "version": "3.7.4"
  }
 },
 "nbformat": 4,
 "nbformat_minor": 4
}
